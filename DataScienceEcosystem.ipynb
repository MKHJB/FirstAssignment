{
 "cells": [
  {
   "cell_type": "markdown",
   "id": "f3ecc7c6-605d-424e-bbc3-689503ad0f45",
   "metadata": {},
   "source": [
    "# Data Science Tools and Ecosystem"
   ]
  },
  {
   "cell_type": "markdown",
   "id": "ac034539-ae8e-44a7-986b-9c2b5c3421f6",
   "metadata": {},
   "source": [
    "In this notebook, Data Science Tools and Ecosystem are summarized."
   ]
  },
  {
   "cell_type": "markdown",
   "id": "4af35ae0-bc98-4359-b3ff-1c42baa01c35",
   "metadata": {},
   "source": [
    "**Objectives:**\n",
    "- Understand popular tools and libraries that Data Scientists use on a daily basis\n",
    "- Understand the basics of Python and R, creating simple code\n",
    "- Understand how to use GitHub to create our own projects"
   ]
  },
  {
   "cell_type": "markdown",
   "id": "e25d1ddb-0f41-4ce2-a35f-bc8e931b253d",
   "metadata": {},
   "source": [
    "Some of the popular languages that Data Scientists use are:\n",
    "\n",
    "1. Python\n",
    "2. R\n",
    "3. Java\n",
    "4. SQL\n",
    "5. C++"
   ]
  },
  {
   "cell_type": "markdown",
   "id": "88aefc64-4ebd-4ab1-a910-5f63f1c31729",
   "metadata": {},
   "source": [
    "Some of the commonly used libraries used by Data Scientists include:\n",
    "\n",
    "1. Pandas\n",
    "2. NumPy\n",
    "3. Matplotlib"
   ]
  },
  {
   "cell_type": "markdown",
   "id": "9b722fee-8fe1-422a-bdfa-9be9b1b74831",
   "metadata": {},
   "source": [
    "|Data Science Tools|\n",
    "------------\n",
    "|Anaconda|\n",
    "|RStudio|\n",
    "|Apache Spark|\n"
   ]
  },
  {
   "cell_type": "markdown",
   "id": "901f696f-9c3c-4447-b89d-afed6fb392c6",
   "metadata": {},
   "source": [
    "Below are a few examples of evaluating arithmetic expressions in Python. "
   ]
  },
  {
   "cell_type": "code",
   "execution_count": 15,
   "id": "58618259-1de4-4e1e-8420-cda6784c8ab9",
   "metadata": {},
   "outputs": [
    {
     "data": {
      "text/plain": [
       "17"
      ]
     },
     "execution_count": 15,
     "metadata": {},
     "output_type": "execute_result"
    }
   ],
   "source": [
    "# This is a simple arithmetic expression to multiply then add integers.\n",
    "(3*4)+5"
   ]
  },
  {
   "cell_type": "code",
   "execution_count": 17,
   "id": "137cb3a9-6a48-45cb-a9e9-e6e68723c3d6",
   "metadata": {},
   "outputs": [
    {
     "data": {
      "text/plain": [
       "3.3333333333333335"
      ]
     },
     "execution_count": 17,
     "metadata": {},
     "output_type": "execute_result"
    }
   ],
   "source": [
    "# This will convert 200 minutes to hours by dividing by 60.\n",
    "\n",
    "200/60 "
   ]
  },
  {
   "cell_type": "markdown",
   "id": "00f7aaab-a3b8-43c7-8592-cd93ed699d53",
   "metadata": {},
   "source": [
    "## Author\n",
    "Matthew Hodge"
   ]
  },
  {
   "cell_type": "code",
   "execution_count": null,
   "id": "dfc39895-62ca-4323-8f24-f817d955079a",
   "metadata": {},
   "outputs": [],
   "source": []
  }
 ],
 "metadata": {
  "kernelspec": {
   "display_name": "Python 3 (ipykernel)",
   "language": "python",
   "name": "python3"
  },
  "language_info": {
   "codemirror_mode": {
    "name": "ipython",
    "version": 3
   },
   "file_extension": ".py",
   "mimetype": "text/x-python",
   "name": "python",
   "nbconvert_exporter": "python",
   "pygments_lexer": "ipython3",
   "version": "3.11.7"
  }
 },
 "nbformat": 4,
 "nbformat_minor": 5
}
